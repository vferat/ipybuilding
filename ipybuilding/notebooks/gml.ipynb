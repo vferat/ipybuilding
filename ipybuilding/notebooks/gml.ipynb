{
 "cells": [
  {
   "cell_type": "code",
   "execution_count": null,
   "metadata": {},
   "outputs": [],
   "source": [
    "import geopandas\n",
    "import fiona\n",
    "\n",
    "import fiona\n",
    "\n",
    "print('Importing bases...')\n",
    "filepath = './data/CAD_BATI3D_BASE.gml'\n",
    "bases = geopandas.read_file(filepath)\n",
    "print('Converting bases to espg4326')\n",
    "bases = bases.set_crs(crs=None, epsg=2056)\n",
    "bases = bases.to_crs(crs=None, epsg=4326)\n",
    "\n",
    "print('Importing facades...')\n",
    "filepath = './data/CAD_BATI3D_BASIC_FACADE.gml'\n",
    "facades = geopandas.read_file(filepath)\n",
    "print('Converting facades to espg4326')\n",
    "facades = facades.set_crs(crs=None, epsg=2056)\n",
    "facades = facades.to_crs(crs=None, epsg=4326)\n",
    "\n",
    "print('Importing toits...')\n",
    "filepath = './data/CAD_BATI3D_BASIC_TOIT.gml'\n",
    "toits = geopandas.read_file(filepath)\n",
    "print('Converting toits to espg4326')\n",
    "toits = toits.set_crs(crs=None, epsg=2056)\n",
    "toits = toits.to_crs(crs=None, epsg=4326)\n"
   ]
  },
  {
   "cell_type": "code",
   "execution_count": null,
   "metadata": {},
   "outputs": [],
   "source": [
    "bases"
   ]
  },
  {
   "cell_type": "code",
   "execution_count": null,
   "metadata": {},
   "outputs": [],
   "source": [
    "import pydeck\n",
    "\n",
    "INITIAL_VIEW_STATE = pydeck.ViewState(\n",
    "  latitude=46.1966,\n",
    "  longitude=6.09,\n",
    "  zoom=11,\n",
    "  max_zoom=16,\n",
    "  pitch=45,\n",
    "  bearing=0\n",
    ")\n",
    "\n",
    "bases_layer = pydeck.Layer('GeoJsonLayer', data=bases, get_fill_color=[255,100,255], pickable=True)\n",
    "\n",
    "r = pydeck.Deck(\n",
    "    layers=[bases_layer],\n",
    "    initial_view_state=INITIAL_VIEW_STATE)\n",
    "\n",
    "# r.show()\n",
    "r.to_html()"
   ]
  },
  {
   "cell_type": "code",
   "execution_count": null,
   "metadata": {},
   "outputs": [],
   "source": [
    "import pydeck\n",
    "\n",
    "import pydeck\n",
    "\n",
    "INITIAL_VIEW_STATE = pydeck.ViewState(\n",
    "  latitude=46.1966,\n",
    "  longitude=6.09,\n",
    "  zoom=11,\n",
    "  max_zoom=16,\n",
    "  pitch=45,\n",
    "  bearing=0\n",
    ")\n",
    "\n",
    "facades_layer = pydeck.Layer('PolygonLayer', data=facades, get_fill_color=[255,100,255], pickable=True)\n",
    "\n",
    "r = pydeck.Deck(\n",
    "    layers=[facades_layer],\n",
    "    initial_view_state=INITIAL_VIEW_STATE)\n",
    "\n",
    "\n",
    "r.to_html()"
   ]
  },
  {
   "cell_type": "code",
   "execution_count": null,
   "metadata": {},
   "outputs": [],
   "source": []
  }
 ],
 "metadata": {
  "interpreter": {
   "hash": "5c71747199ccf75ddaf3883c03e7cbdd89e76ecde656ff7751201a2aee1b439a"
  },
  "kernelspec": {
   "display_name": "Python 3.8.12 ('p3')",
   "language": "python",
   "name": "python3"
  },
  "language_info": {
   "codemirror_mode": {
    "name": "ipython",
    "version": 3
   },
   "file_extension": ".py",
   "mimetype": "text/x-python",
   "name": "python",
   "nbconvert_exporter": "python",
   "pygments_lexer": "ipython3",
   "version": "3.8.12"
  }
 },
 "nbformat": 4,
 "nbformat_minor": 2
}
