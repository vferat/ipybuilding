{
 "cells": [
  {
   "cell_type": "code",
   "execution_count": 1,
   "metadata": {},
   "outputs": [],
   "source": [
    "import os\n",
    "import matplotlib as mpl\n",
    "import matplotlib.pyplot as plt\n",
    "\n",
    "import pandas as pd\n",
    "import geopandas\n",
    "\n",
    "import pydeck"
   ]
  },
  {
   "cell_type": "code",
   "execution_count": 2,
   "metadata": {},
   "outputs": [],
   "source": [
    "folder = fr'V:\\switchdrive\\Institution\\p3'"
   ]
  },
  {
   "cell_type": "code",
   "execution_count": 3,
   "metadata": {},
   "outputs": [],
   "source": [
    "start_point = (6.1402,46.208742)\n",
    "delta = 0.02\n",
    "bbox =  (start_point[0] - delta, start_point[1]-delta, start_point[0] + delta, start_point[1]+delta) "
   ]
  },
  {
   "cell_type": "code",
   "execution_count": 4,
   "metadata": {},
   "outputs": [],
   "source": [
    "filepath = os.path.join(folder, 'bases.gpkg')\n",
    "bases = geopandas.read_file(filepath, bbox=bbox)\n",
    "\n",
    "filepath = os.path.join(folder, 'facades.gpkg')\n",
    "facade = geopandas.read_file(filepath, bbox=bbox)\n",
    "\n",
    "filepath = os.path.join(folder, 'toits.gpkg')\n",
    "toits = geopandas.read_file(filepath, bbox=bbox)\n",
    "\n",
    "\n",
    "bases.columns = [s.lower() for s in bases.columns]\n",
    "facade.columns = [s.lower() for s in facade.columns]\n",
    "toits.columns = [s.lower() for s in toits.columns]"
   ]
  },
  {
   "cell_type": "code",
   "execution_count": 5,
   "metadata": {},
   "outputs": [],
   "source": [
    "heat_demand = pd.read_csv('V:\\switchdrive\\Institution\\p3\\ge_heat_demand.csv')\n",
    "norm = mpl.colors.LogNorm(vmin=1, vmax=heat_demand.q_heat_total.max())\n",
    "cmap = plt.cm.get_cmap('plasma')"
   ]
  },
  {
   "cell_type": "code",
   "execution_count": 6,
   "metadata": {},
   "outputs": [],
   "source": [
    "MAPBOX_API_KEY = os.environ[\"MAPBOX_API_KEY\"]"
   ]
  },
  {
   "cell_type": "code",
   "execution_count": 7,
   "metadata": {},
   "outputs": [],
   "source": [
    "toits = toits.merge(heat_demand, on='egid')\n",
    "cmap_val = cmap(norm(toits.q_heat_total)) \n",
    "toits['color'] = (cmap_val* 255).astype(int).tolist()\n",
    "\n",
    "facade = facade.merge(heat_demand, on='egid')\n",
    "cmap_val = cmap(norm(facade.q_heat_total)) \n",
    "facade['color'] = (cmap_val* 255).astype(int).tolist()"
   ]
  },
  {
   "cell_type": "code",
   "execution_count": 8,
   "metadata": {},
   "outputs": [],
   "source": [
    "def _f(*args, **kwargs):\n",
    "    global vals\n",
    "    vals.append((args, kwargs))\n"
   ]
  },
  {
   "cell_type": "code",
   "execution_count": 9,
   "metadata": {},
   "outputs": [
    {
     "data": {
      "application/vnd.jupyter.widget-view+json": {
       "model_id": "494dbb9395914e97bed7d5d7bc858c9a",
       "version_major": 2,
       "version_minor": 0
      },
      "text/plain": [
       "DeckGLWidget(carto_key=None, custom_libraries=[], google_maps_key=None, json_input='{\"initialViewState\": {\"bea…"
      ]
     },
     "metadata": {},
     "output_type": "display_data"
    }
   ],
   "source": [
    "# AWS Open Data Terrain Tiles\n",
    "TERRAIN_IMAGE = \"https://s3.amazonaws.com/elevation-tiles-prod/terrarium/{z}/{x}/{y}.png\"\n",
    "\n",
    "# Define how to parse elevation tiles\n",
    "ELEVATION_DECODER = {\"rScaler\": 256, \"gScaler\": 1, \"bScaler\": 1 / 256, \"offset\": -32768}\n",
    "\n",
    "SURFACE_IMAGE = f\"https://api.mapbox.com/v4/mapbox.satellite/{{z}}/{{x}}/{{y}}@2x.png?access_token={MAPBOX_API_KEY}\"\n",
    "\n",
    "\n",
    "# lights = pydeck.LightSettings(\n",
    "#         lights_position=[start_point[0], start_point[1], 8000, -3.807751, 54.104682, 8000], ambient_ratio=0.4, diffuse_ratio=0.6,\n",
    "#     lights_strength=0.1\n",
    "#     )\n",
    "\n",
    "\n",
    "# lights = pydeck.LightSettings(\n",
    "#     number_of_lights=1,\n",
    "#         lights_position=[start_point[0]+1, start_point[1]+1, 80], ambient_ratio=0.4, diffuse_ratio=0.6,\n",
    "#     lights_strength=0.1\n",
    "#     )\n",
    "\n",
    "\n",
    "terrain_layer = pydeck.Layer(\n",
    "    \"TerrainLayer\", elevation_decoder=ELEVATION_DECODER, texture=SURFACE_IMAGE, elevation_data=TERRAIN_IMAGE,\n",
    "    # light_settings=lights\n",
    "\n",
    ")\n",
    "\n",
    "\n",
    "bases_layer = pydeck.Layer('GeoJsonLayer', \n",
    "                           data=bases, get_fill_color=[255,100,255], pickable=True\n",
    "                          )\n",
    "facade_layer = pydeck.Layer('GeoJsonLayer', \n",
    "                            data=facade, \n",
    "                            get_fill_color='color', \n",
    "                            line_width_scale=0.1,\n",
    "                            pickable=True,\n",
    "                            # stroked=False,\n",
    "                            filled=True,\n",
    "                            wireframe=True,\n",
    "                            # light_settings=lights\n",
    "\n",
    "                           )\n",
    "# facade_layer = pydeck.Layer('GeoJsonLayer', data=facade, get_fill_color='color', pickable=True)\n",
    "toits_layer = pydeck.Layer('GeoJsonLayer', \n",
    "                           data=toits, \n",
    "                           get_fill_color='color', \n",
    "                           pickable=True,\n",
    "                           stroked=False,\n",
    "                           filled=True,\n",
    "                           wireframe=True,\n",
    "\n",
    "                          )\n",
    "\n",
    "\n",
    "INITIAL_VIEW_STATE = pydeck.ViewState(\n",
    "  latitude=start_point[1],\n",
    "  longitude=start_point[0],\n",
    "  zoom=14,\n",
    "  max_zoom=16,\n",
    "  min_zoom=8,\n",
    "  pitch=45,\n",
    "  bearing=0\n",
    ")\n",
    "\n",
    "\n",
    "r = pydeck.Deck(\n",
    "    layers=[\n",
    "        terrain_layer,\n",
    "        bases_layer, \n",
    "        facade_layer, \n",
    "        toits_layer\n",
    "    ],\n",
    "    initial_view_state=INITIAL_VIEW_STATE,\n",
    "    map_style='satellite'\n",
    ")\n",
    "\n",
    "r.show()"
   ]
  },
  {
   "cell_type": "code",
   "execution_count": null,
   "metadata": {},
   "outputs": [],
   "source": [
    "def filter_by_bbox(row, west_lng, east_lng, north_lat, south_lat):\n",
    "    return west_lng < row['lng'] < east_lng and south_lat < row['lat'] < north_lat\n",
    "\n",
    "\n",
    "def filter_by_viewport(widget_instance, payload):\n",
    "    try:\n",
    "        west_lng, north_lat = payload['data']['nw']\n",
    "        east_lng, south_lat = payload['data']['se']\n",
    "        filtered_df = df[df.apply(lambda row: filter_by_bbox(row, west_lng, east_lng, north_lat, south_lat), axis=1)]\n",
    "        text.value = 'Points in viewport: %s' % int(filtered_df.count()['lng'])\n",
    "    except Exception as e:\n",
    "        text.value = 'Error: %s' % e\n",
    "\n",
    "r.deck_widget.on_view_state_change(filter_by_viewport)\n"
   ]
  },
  {
   "cell_type": "code",
   "execution_count": null,
   "metadata": {},
   "outputs": [],
   "source": [
    "{\n",
    "    'type': 'deck-view-state-change-event',\n",
    "    'data': {\n",
    "        'width': int,\n",
    "        'height': int,\n",
    "        'latitude': float,\n",
    "        'longitude': float,\n",
    "        'zoom': float,\n",
    "        'bearing': float,\n",
    "        'pitch': float,\n",
    "        'altitude': float,\n",
    "        'maxZoom': float,\n",
    "        'minZoom': float\n",
    "        'maxPitch': float,\n",
    "        'minPitch': float,\n",
    "        'nw': [float, float],\n",
    "        'se': [float, float]\n",
    "    }\n",
    "}"
   ]
  }
 ],
 "metadata": {
  "interpreter": {
   "hash": "5c71747199ccf75ddaf3883c03e7cbdd89e76ecde656ff7751201a2aee1b439a"
  },
  "kernelspec": {
   "display_name": "Python 3 (ipykernel)",
   "language": "python",
   "name": "python3"
  },
  "language_info": {
   "codemirror_mode": {
    "name": "ipython",
    "version": 3
   },
   "file_extension": ".py",
   "mimetype": "text/x-python",
   "name": "python",
   "nbconvert_exporter": "python",
   "pygments_lexer": "ipython3",
   "version": "3.8.12"
  }
 },
 "nbformat": 4,
 "nbformat_minor": 4
}
