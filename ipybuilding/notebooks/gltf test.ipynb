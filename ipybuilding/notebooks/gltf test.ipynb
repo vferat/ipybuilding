{
 "cells": [
  {
   "cell_type": "code",
   "execution_count": 3,
   "id": "c9e86a2b-e8c3-4c35-8f7e-0730725c81e6",
   "metadata": {},
   "outputs": [],
   "source": [
    "# import pydeck\n",
    "# import pydeck as pdk"
   ]
  },
  {
   "cell_type": "code",
   "execution_count": null,
   "id": "c401c43b-a66f-4e61-b477-c92eabdd495f",
   "metadata": {},
   "outputs": [],
   "source": [
    "pydeck."
   ]
  },
  {
   "cell_type": "code",
   "execution_count": 21,
   "id": "434df3b7-ee38-44e6-91eb-af6d51bd4bd6",
   "metadata": {},
   "outputs": [
    {
     "data": {
      "text/html": [
       "\n",
       "        <iframe\n",
       "            width=\"100%\"\n",
       "            height=500\n",
       "            frameborder=\"0\"\n",
       "            srcdoc=\"&lt;!DOCTYPE html&gt;\n",
       "&lt;html&gt;\n",
       "  &lt;head&gt;\n",
       "    &lt;meta http-equiv=&quot;content-type&quot; content=&quot;text/html; charset=UTF-8&quot; /&gt;\n",
       "    &lt;title&gt;pydeck&lt;/title&gt;\n",
       "        &lt;script src=&quot;https://api.tiles.mapbox.com/mapbox-gl-js/v1.13.0/mapbox-gl.js&quot;&gt;&lt;/script&gt;\n",
       "        &lt;link rel=&quot;stylesheet&quot; href=&quot;https://maxcdn.bootstrapcdn.com/bootstrap/3.2.0/css/bootstrap-theme.min.css&quot; /&gt;\n",
       "    &lt;link rel=&quot;stylesheet&quot; href=&quot;https://maxcdn.bootstrapcdn.com/font-awesome/4.6.3/css/font-awesome.min.css&quot; /&gt;\n",
       "    &lt;script src=&#x27;https://cdn.jsdelivr.net/npm/@deck.gl/jupyter-widget@~8.5.*/dist/index.js&#x27;&gt;&lt;/script&gt;\n",
       "    &lt;style&gt;\n",
       "    body {\n",
       "  margin: 0;\n",
       "  padding: 0;\n",
       "  overflow: hidden;\n",
       "}\n",
       "\n",
       "#deck-map-container {\n",
       "  width: 100%;\n",
       "  height: 100%;\n",
       "  background-color: black;\n",
       "}\n",
       "\n",
       "#map {\n",
       "  pointer-events: none;\n",
       "  height: 100%;\n",
       "  width: 100%;\n",
       "  position: absolute;\n",
       "  z-index: 1;\n",
       "}\n",
       "\n",
       "#deckgl-overlay {\n",
       "  z-index: 2;\n",
       "  background: none;\n",
       "}\n",
       "\n",
       "#deck-map-wrapper {\n",
       "  width: 100%;\n",
       "  height: 100%;\n",
       "}\n",
       "\n",
       "#deck-container {\n",
       "  width: 100vw;\n",
       "  height: 100vh;\n",
       "}\n",
       "    &lt;/style&gt;\n",
       "  &lt;/head&gt;\n",
       "  &lt;body&gt;\n",
       "    &lt;div id=&quot;deck-container&quot;&gt;\n",
       "    &lt;/div&gt;\n",
       "  &lt;/body&gt;\n",
       "  &lt;script&gt;\n",
       "    const jsonInput = {&quot;initialViewState&quot;: {&quot;controller&quot;: true, &quot;rotationOrbit&quot;: 30, &quot;rotationX&quot;: 0, &quot;target&quot;: [2601255, 1197839.625, 518.3070068359375], &quot;zoom&quot;: 1}, &quot;layers&quot;: [], &quot;mapProvider&quot;: &quot;carto&quot;, &quot;mapStyle&quot;: &quot;https://basemaps.cartocdn.com/gl/dark-matter-gl-style/style.json&quot;, &quot;views&quot;: [{&quot;@@type&quot;: &quot;OrbitView&quot;, &quot;controller&quot;: true}]};\n",
       "    const tooltip = true;\n",
       "    const customLibraries = null;\n",
       "\n",
       "    const deckInstance = createDeck({\n",
       "                  container: document.getElementById(&#x27;deck-container&#x27;),\n",
       "      jsonInput,\n",
       "      tooltip,\n",
       "      customLibraries\n",
       "    });\n",
       "\n",
       "  &lt;/script&gt;\n",
       "&lt;/html&gt;\"\n",
       "        ></iframe>\n",
       "    "
      ],
      "text/plain": [
       "<IPython.core.display.HTML object>"
      ]
     },
     "execution_count": 21,
     "metadata": {},
     "output_type": "execute_result"
    }
   ],
   "source": [
    "import pydeck\n",
    "import pandas as pd\n",
    "\n",
    "\n",
    "target = [\n",
    "        2601255,\n",
    "        1197839.625,\n",
    "        518.3070068359375\n",
    "      ]\n",
    "layer = pydeck.Layer(\n",
    "    \"ScenegraphLayer\",\n",
    "    data=[{'coordinates': [2601255, 1197839]}],\n",
    "    # scenegraph=r'./data/test.gltf',\n",
    "    scenegraph=r'http://localhost:8000/test.gltf',\n",
    "    get_position=\"coordinates\",\n",
    "    coo\n",
    ")\n",
    "\n",
    "view_state = pydeck.ViewState(target=target, controller=True, \n",
    "                              rotation_x=0, rotation_orbit=30, \n",
    "                              zoom=1\n",
    "                             )\n",
    "view = pydeck.View(type=\"OrbitView\", controller=True)\n",
    "\n",
    "r = pydeck.Deck(\n",
    "    # layer, \n",
    "                initial_view_state=view_state, views=[view])\n",
    "r.to_html()"
   ]
  },
  {
   "cell_type": "code",
   "execution_count": 22,
   "id": "5e05ab34-6314-4381-aebb-a7994cd83e47",
   "metadata": {},
   "outputs": [],
   "source": [
    "\n",
    "# layer = pydeck.Layer(\n",
    "#     \"ScenegraphLayer\",\n",
    "#     data=r'./data/test.gltf',\n",
    "#     scenegraph=r'./data/test.gltf',\n",
    "#     get_position=\"coordinates\",\n",
    "# )\n",
    "\n",
    "\n",
    "# # view_state = pdk.ViewState(latitude=37.684638, longitude=-122.466233, zoom=18, bearing=0, pitch=0)\n",
    "# view_state = pydeck.ViewState(latitude=37.684638, longitude=-122.466233, zoom=18, bearing=0, pitch=0)\n",
    "\n",
    "\n",
    "# r = pydeck.Deck(\n",
    "#     layer, \n",
    "#              initial_view_state=view_state, map_style=\"light\")\n",
    "# r.to_html()"
   ]
  },
  {
   "cell_type": "code",
   "execution_count": 7,
   "id": "21d4beab-7bfa-4962-9261-b3339b96e6c1",
   "metadata": {},
   "outputs": [],
   "source": [
    "# import pydeck\n",
    "# import pandas as pd\n",
    "\n",
    "\n",
    "# DATA_URL = \"https://raw.githubusercontent.com/ajduberstein/geo_datasets/master/small_waterfall.csv\"\n",
    "# df = pd.read_csv(DATA_URL)\n",
    "\n",
    "# target = [df.x.mean(), df.y.mean(), df.z.mean()]\n",
    "\n",
    "# point_cloud_layer = pydeck.Layer(\n",
    "#     \"PointCloudLayer\",\n",
    "#     data=DATA_URL,\n",
    "#     get_position=[\"x\", \"y\", \"z\"],\n",
    "#     get_color=[\"r\", \"g\", \"b\"],\n",
    "#     get_normal=[0, 0, 15],\n",
    "#     auto_highlight=True,\n",
    "#     pickable=True,\n",
    "#     point_size=3,\n",
    "# )\n",
    "\n",
    "# view_state = pydeck.ViewState(target=target, controller=True, rotation_x=15, rotation_orbit=30, zoom=5.3)\n",
    "# view = pydeck.View(type=\"OrbitView\", controller=True)\n",
    "\n",
    "# r = pydeck.Deck(point_cloud_layer, initial_view_state=view_state, views=[view])\n",
    "# r.to_html(css_background_color=\"#add8e6\")"
   ]
  },
  {
   "cell_type": "code",
   "execution_count": 26,
   "id": "bdd343d9-b9f1-4067-a5e1-aaac075cff4e",
   "metadata": {},
   "outputs": [
    {
     "data": {
      "text/html": [
       "\n",
       "        <iframe\n",
       "            width=\"100%\"\n",
       "            height=500\n",
       "            frameborder=\"0\"\n",
       "            srcdoc=\"&lt;!DOCTYPE html&gt;\n",
       "&lt;html&gt;\n",
       "  &lt;head&gt;\n",
       "    &lt;meta http-equiv=&quot;content-type&quot; content=&quot;text/html; charset=UTF-8&quot; /&gt;\n",
       "    &lt;title&gt;pydeck&lt;/title&gt;\n",
       "        &lt;script src=&quot;https://api.tiles.mapbox.com/mapbox-gl-js/v1.13.0/mapbox-gl.js&quot;&gt;&lt;/script&gt;\n",
       "        &lt;link rel=&quot;stylesheet&quot; href=&quot;https://maxcdn.bootstrapcdn.com/bootstrap/3.2.0/css/bootstrap-theme.min.css&quot; /&gt;\n",
       "    &lt;link rel=&quot;stylesheet&quot; href=&quot;https://maxcdn.bootstrapcdn.com/font-awesome/4.6.3/css/font-awesome.min.css&quot; /&gt;\n",
       "    &lt;script src=&#x27;https://cdn.jsdelivr.net/npm/@deck.gl/jupyter-widget@~8.5.*/dist/index.js&#x27;&gt;&lt;/script&gt;\n",
       "    &lt;style&gt;\n",
       "    body {\n",
       "  margin: 0;\n",
       "  padding: 0;\n",
       "  overflow: hidden;\n",
       "}\n",
       "\n",
       "#deck-map-container {\n",
       "  width: 100%;\n",
       "  height: 100%;\n",
       "  background-color: black;\n",
       "}\n",
       "\n",
       "#map {\n",
       "  pointer-events: none;\n",
       "  height: 100%;\n",
       "  width: 100%;\n",
       "  position: absolute;\n",
       "  z-index: 1;\n",
       "}\n",
       "\n",
       "#deckgl-overlay {\n",
       "  z-index: 2;\n",
       "  background: none;\n",
       "}\n",
       "\n",
       "#deck-map-wrapper {\n",
       "  width: 100%;\n",
       "  height: 100%;\n",
       "}\n",
       "\n",
       "#deck-container {\n",
       "  width: 100vw;\n",
       "  height: 100vh;\n",
       "}\n",
       "    &lt;/style&gt;\n",
       "  &lt;/head&gt;\n",
       "  &lt;body&gt;\n",
       "    &lt;div id=&quot;deck-container&quot;&gt;\n",
       "    &lt;/div&gt;\n",
       "  &lt;/body&gt;\n",
       "  &lt;script&gt;\n",
       "    const jsonInput = {&quot;initialViewState&quot;: {&quot;latitude&quot;: 37.781208477272735, &quot;longitude&quot;: -122.23880488636364, &quot;zoom&quot;: 9}, &quot;layers&quot;: [{&quot;@@type&quot;: &quot;ScenegraphLayer&quot;, &quot;_animations&quot;: {&quot;*&quot;: {&quot;speed&quot;: 5}}, &quot;data&quot;: &quot;https://raw.githubusercontent.com/visgl/deck.gl-data/master/website/bart-stations.json&quot;, &quot;getOrientation&quot;: [0, 180, 90], &quot;getPosition&quot;: &quot;@@=coordinates&quot;, &quot;id&quot;: &quot;scenegraph-layer&quot;, &quot;pickable&quot;: true, &quot;scenegraph&quot;: &quot;http://localhost:8000/test.glb&quot;, &quot;sizeScale&quot;: 1}], &quot;mapProvider&quot;: &quot;carto&quot;, &quot;mapStyle&quot;: &quot;https://basemaps.cartocdn.com/gl/dark-matter-gl-style/style.json&quot;, &quot;views&quot;: [{&quot;@@type&quot;: &quot;MapView&quot;, &quot;controller&quot;: true}]};\n",
       "    const tooltip = true;\n",
       "    const customLibraries = null;\n",
       "\n",
       "    const deckInstance = createDeck({\n",
       "                  container: document.getElementById(&#x27;deck-container&#x27;),\n",
       "      jsonInput,\n",
       "      tooltip,\n",
       "      customLibraries\n",
       "    });\n",
       "\n",
       "  &lt;/script&gt;\n",
       "&lt;/html&gt;\"\n",
       "        ></iframe>\n",
       "    "
      ],
      "text/plain": [
       "<IPython.core.display.HTML object>"
      ]
     },
     "execution_count": 26,
     "metadata": {},
     "output_type": "execute_result"
    }
   ],
   "source": [
    "import pandas as pd\n",
    "\n",
    "from pydeck import Layer, Deck\n",
    "from pydeck.data_utils import compute_view\n",
    "from pydeck.types import String\n",
    "\n",
    "DATA_URL = \"https://raw.githubusercontent.com/visgl/deck.gl-data/master/website/bart-stations.json\"\n",
    "# Referencing the local file server\n",
    "SCENEGRAPH_URL = \"http://localhost:8000/test.glb\"\n",
    "# SCENEGRAPH_URL = \"http://localhost:8000/box.glb\"\n",
    "\n",
    "\n",
    "# Automatically fit viewport location based on data\n",
    "df = pd.read_json(DATA_URL)\n",
    "view = compute_view(df[\"coordinates\"])\n",
    "\n",
    "layer = Layer(\n",
    "    type=\"ScenegraphLayer\",\n",
    "    id=\"scenegraph-layer\",\n",
    "    data=DATA_URL,\n",
    "    pickable=True,\n",
    "    scenegraph=SCENEGRAPH_URL,\n",
    "    get_position=\"coordinates\",\n",
    "    get_orientation=[0, 180, 90],\n",
    "    size_scale=1,\n",
    "    _animations={\"*\": {\"speed\": 5}},\n",
    "    # _lighting=String(\"pbr\"),\n",
    ")\n",
    "\n",
    "# Render\n",
    "r = Deck(layer, initial_view_state=view)\n",
    "r.to_html()"
   ]
  },
  {
   "cell_type": "code",
   "execution_count": 27,
   "id": "13218eb1-77b4-4219-8574-f0102b1d53ba",
   "metadata": {},
   "outputs": [],
   "source": [
    "from pygltflib import GLTF2\n"
   ]
  },
  {
   "cell_type": "code",
   "execution_count": 39,
   "id": "aeb569e8-77c6-4ecf-b64a-fd2ee8b2fdf9",
   "metadata": {},
   "outputs": [],
   "source": [
    "filename = \"data/test.glb\"\n",
    "gltf = GLTF2().load(filename)\n"
   ]
  },
  {
   "cell_type": "code",
   "execution_count": 61,
   "id": "ae103011-2cc8-4339-9eeb-44a7c960ea75",
   "metadata": {},
   "outputs": [
    {
     "data": {
      "text/plain": [
       "GLTF2(extensions={}, extras={}, accessors=[Accessor(extensions={}, extras={}, bufferView=0, byteOffset=0, componentType=5126, normalized=False, count=34, type='VEC3', sparse=None, max=[2601266.25, 1197849.5, 532.3330078125], min=[2601255, 1197839.625, 518.3070068359375], name='0A4B8E0A-EEE0-46F3-B819-DB812D3791A1 Hull_0_positions'), Accessor(extensions={}, extras={}, bufferView=1, byteOffset=0, componentType=5126, normalized=False, count=34, type='VEC3', sparse=None, max=[0.9834672808647156, 0.9835000038146973, 0.0010004747891798615], min=[-0.9835000038146973, -0.9834672808647156, -1], name='0A4B8E0A-EEE0-46F3-B819-DB812D3791A1 Hull_0_normals'), Accessor(extensions={}, extras={}, bufferView=2, byteOffset=0, componentType=5123, normalized=False, count=54, type='SCALAR', sparse=None, max=[33], min=[0], name='0A4B8E0A-EEE0-46F3-B819-DB812D3791A1 Hull_0_indices'), Accessor(extensions={}, extras={}, bufferView=0, byteOffset=408, componentType=5126, normalized=False, count=28, type='VEC3', sparse=None, max=[2601267.25, 1197850.375, 532.3330078125], min=[2601254.25, 1197838.75, 530.2890014648438], name='0A4B8E0A-EEE0-46F3-B819-DB812D3791A1 Roof_0_positions'), Accessor(extensions={}, extras={}, bufferView=1, byteOffset=408, componentType=5126, normalized=False, count=28, type='VEC3', sparse=None, max=[0.06998355686664581, 0.37891095876693726, 0.9227831959724426], min=[-0.06998355686664581, -0.37891095876693726, -0.9227831959724426], name='0A4B8E0A-EEE0-46F3-B819-DB812D3791A1 Roof_0_normals'), Accessor(extensions={}, extras={}, bufferView=2, byteOffset=108, componentType=5123, normalized=False, count=60, type='SCALAR', sparse=None, max=[27], min=[0], name='0A4B8E0A-EEE0-46F3-B819-DB812D3791A1 Roof_0_indices')], animations=[], asset=Asset(extensions={}, extras={}, generator='obj2gltf', copyright=None, version='2.0', minVersion=None), bufferViews=[BufferView(extensions={}, extras={}, buffer=0, byteOffset=0, byteLength=744, byteStride=12, target=34962, name='bufferView_0'), BufferView(extensions={}, extras={}, buffer=0, byteOffset=744, byteLength=744, byteStride=12, target=34962, name='bufferView_1'), BufferView(extensions={}, extras={}, buffer=0, byteOffset=1488, byteLength=228, byteStride=None, target=34963, name='bufferView_2')], buffers=[Buffer(extensions={}, extras={}, uri='', byteLength=1716)], cameras=[], extensionsUsed=[], extensionsRequired=[], images=[], materials=[Material(extensions={}, extras={}, pbrMetallicRoughness=PbrMetallicRoughness(extensions={}, extras={}, baseColorFactor=[0.886275, 0.847059, 0.564706, 1], metallicFactor=0, roughnessFactor=1, baseColorTexture=None, metallicRoughnessTexture=None), normalTexture=None, occlusionTexture=None, emissiveFactor=[0, 0, 0], emissiveTexture=None, alphaMode='OPAQUE', alphaCutoff=0.5, doubleSided=False, name='hull'), Material(extensions={}, extras={}, pbrMetallicRoughness=PbrMetallicRoughness(extensions={}, extras={}, baseColorFactor=[0.811765, 0.247059, 0.247059, 1], metallicFactor=0, roughnessFactor=1, baseColorTexture=None, metallicRoughnessTexture=None), normalTexture=None, occlusionTexture=None, emissiveFactor=[0, 0, 0], emissiveTexture=None, alphaMode='OPAQUE', alphaCutoff=0.5, doubleSided=False, name='roof')], meshes=[Mesh(extensions={}, extras={}, primitives=[Primitive(extensions={}, extras={}, attributes=Attributes(POSITION=0, NORMAL=1, TANGENT=None, TEXCOORD_0=None, TEXCOORD_1=None, COLOR_0=None, JOINTS_0=None, WEIGHTS_0=None), indices=2, mode=4, material=0, targets=[])], weights=[], name='0A4B8E0A-EEE0-46F3-B819-DB812D3791A1 Hull'), Mesh(extensions={}, extras={}, primitives=[Primitive(extensions={}, extras={}, attributes=Attributes(POSITION=3, NORMAL=4, TANGENT=None, TEXCOORD_0=None, TEXCOORD_1=None, COLOR_0=None, JOINTS_0=None, WEIGHTS_0=None), indices=5, mode=4, material=1, targets=[])], weights=[], name='0A4B8E0A-EEE0-46F3-B819-DB812D3791A1 Roof')], nodes=[Node(extensions={}, extras={}, mesh=None, skin=None, rotation=None, translation=None, scale=None, children=[1, 2], matrix=None, camera=None, name='0A4B8E0A-EEE0-46F3-B819-DB812D3791A1'), Node(extensions={}, extras={}, mesh=0, skin=None, rotation=None, translation=None, scale=None, children=[], matrix=None, camera=None, name='0A4B8E0A-EEE0-46F3-B819-DB812D3791A1 Hull'), Node(extensions={}, extras={}, mesh=1, skin=None, rotation=None, translation=None, scale=None, children=[], matrix=None, camera=None, name='0A4B8E0A-EEE0-46F3-B819-DB812D3791A1 Roof')], samplers=[], scene=0, scenes=[Scene(extensions={}, extras={}, name=None, nodes=[0])], skins=[], textures=[])"
      ]
     },
     "execution_count": 61,
     "metadata": {},
     "output_type": "execute_result"
    }
   ],
   "source": [
    "gltf"
   ]
  },
  {
   "cell_type": "code",
   "execution_count": 41,
   "id": "75f081ee-dc33-4f4d-ad13-e95f47023b7a",
   "metadata": {},
   "outputs": [],
   "source": [
    "box = gltf.nodes[1]\n",
    "box.matrix  # will output vertices for the box object\n"
   ]
  },
  {
   "cell_type": "code",
   "execution_count": 51,
   "id": "5e0182f1-bc79-422a-9821-9839ed1739f0",
   "metadata": {},
   "outputs": [],
   "source": [
    "mesh = gltf.meshes[gltf.scenes[gltf.scene].nodes[0]]"
   ]
  },
  {
   "cell_type": "code",
   "execution_count": 54,
   "id": "379c8455-19fe-4a6c-bee7-f488f1f1cb60",
   "metadata": {},
   "outputs": [],
   "source": [
    "import struct"
   ]
  },
  {
   "cell_type": "code",
   "execution_count": 59,
   "id": "20a9225d-8838-48c1-a6f5-68b724ee6473",
   "metadata": {},
   "outputs": [],
   "source": [
    "# get the vertices for each primitive in the mesh (in this example there is only one)\n",
    "for primitive in mesh.primitives:\n",
    "\n",
    "    # get the binary data for this mesh primitive from the buffer\n",
    "    accessor = gltf.accessors[primitive.attributes.POSITION]\n",
    "    bufferView = gltf.bufferViews[accessor.bufferView]\n",
    "    buffer = gltf.buffers[bufferView.buffer]\n",
    "    data = gltf.get_data_from_buffer_uri(buffer.uri)\n",
    "\n",
    "    # pull each vertex from the binary buffer and convert it into a tuple of python floats\n",
    "    vertices = []\n",
    "    for i in range(accessor.count):\n",
    "        index = bufferView.byteOffset + accessor.byteOffset + i*12  # the location in the buffer of this vertex\n",
    "        d = data[index:index+12]  # the vertex data\n",
    "        v = struct.unpack(\"<fff\", d)   # convert from base64 to three floats\n",
    "        vertices.append(v)\n",
    "        # print(i, v)\n"
   ]
  },
  {
   "cell_type": "code",
   "execution_count": 60,
   "id": "c7834e3e-f429-4cb6-8681-01e2d8872b8d",
   "metadata": {},
   "outputs": [
    {
     "data": {
      "text/plain": [
       "[(2601266.25, 1197847.75, 530.6019897460938),\n",
       " (2601265.5, 1197843.625, 532.3330078125),\n",
       " (2601264.75, 1197839.625, 530.6019897460938),\n",
       " (2601264.75, 1197839.625, 518.3070068359375),\n",
       " (2601266.25, 1197847.75, 518.3070068359375),\n",
       " (2601257.0, 1197849.5, 529.9619750976562),\n",
       " (2601266.25, 1197847.75, 530.6019897460938),\n",
       " (2601266.25, 1197847.75, 518.3070068359375),\n",
       " (2601256.5, 1197849.5, 530.6019897460938),\n",
       " (2601266.25, 1197847.75, 530.6019897460938),\n",
       " (2601257.0, 1197849.5, 529.9619750976562),\n",
       " (2601257.0, 1197849.5, 518.3070068359375),\n",
       " (2601256.5, 1197849.5, 530.6019897460938),\n",
       " (2601257.0, 1197849.5, 529.9619750976562),\n",
       " (2601256.5, 1197849.5, 529.8179931640625),\n",
       " (2601255.25, 1197841.875, 529.8179931640625),\n",
       " (2601255.0, 1197841.375, 530.6019897460938),\n",
       " (2601255.75, 1197845.5, 532.3330078125),\n",
       " (2601255.0, 1197841.375, 518.3070068359375),\n",
       " (2601255.0, 1197841.375, 530.6019897460938),\n",
       " (2601255.25, 1197841.875, 529.8179931640625),\n",
       " (2601256.5, 1197849.5, 529.8179931640625),\n",
       " (2601256.5, 1197849.5, 530.6019897460938),\n",
       " (2601255.25, 1197841.875, 518.3070068359375),\n",
       " (2601264.75, 1197839.625, 518.3070068359375),\n",
       " (2601255.0, 1197841.375, 530.6019897460938),\n",
       " (2601255.0, 1197841.375, 518.3070068359375),\n",
       " (2601264.75, 1197839.625, 530.6019897460938),\n",
       " (2601255.25, 1197841.875, 518.3070068359375),\n",
       " (2601264.75, 1197839.625, 518.3070068359375),\n",
       " (2601255.0, 1197841.375, 518.3070068359375),\n",
       " (2601257.0, 1197849.5, 518.3070068359375),\n",
       " (2601266.25, 1197847.75, 518.3070068359375),\n",
       " (2601256.5, 1197849.5, 518.3070068359375)]"
      ]
     },
     "execution_count": 60,
     "metadata": {},
     "output_type": "execute_result"
    }
   ],
   "source": [
    "vertices"
   ]
  },
  {
   "cell_type": "code",
   "execution_count": null,
   "id": "760a44ba-b773-4fdd-898b-fbc765472ff0",
   "metadata": {},
   "outputs": [],
   "source": []
  }
 ],
 "metadata": {
  "kernelspec": {
   "display_name": "Python 3 (ipykernel)",
   "language": "python",
   "name": "python3"
  },
  "language_info": {
   "codemirror_mode": {
    "name": "ipython",
    "version": 3
   },
   "file_extension": ".py",
   "mimetype": "text/x-python",
   "name": "python",
   "nbconvert_exporter": "python",
   "pygments_lexer": "ipython3",
   "version": "3.9.9"
  }
 },
 "nbformat": 4,
 "nbformat_minor": 5
}
