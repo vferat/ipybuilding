{
 "cells": [
  {
   "cell_type": "code",
   "execution_count": 2,
   "metadata": {},
   "outputs": [],
   "source": [
    "import os\n",
    "import pydeck\n",
    "\n",
    "import pandas as pd\n",
    "import geopandas\n",
    "\n",
    "import matplotlib as mpl\n",
    "import pydeck"
   ]
  },
  {
   "cell_type": "code",
   "execution_count": 3,
   "metadata": {},
   "outputs": [],
   "source": [
    "MAX_BUILDINGS = 6000"
   ]
  },
  {
   "cell_type": "code",
   "execution_count": 4,
   "metadata": {},
   "outputs": [],
   "source": [
    "start_point = (6.1402,46.208742)"
   ]
  },
  {
   "cell_type": "code",
   "execution_count": 20,
   "metadata": {},
   "outputs": [],
   "source": [
    "delta = 0.001\n",
    "bbox =  (start_point[0] - delta, start_point[1]-delta, start_point[0] + delta, start_point[1]+delta) "
   ]
  },
  {
   "cell_type": "code",
   "execution_count": 7,
   "metadata": {},
   "outputs": [],
   "source": [
    "folder = fr'E:\\switchdrive\\Institution\\p3'\n",
    "\n",
    "filepath = os.path.join(folder, 'bases.gpkg')\n",
    "bases = geopandas.read_file(filepath)\n",
    "\n",
    "filepath = os.path.join(folder, 'facades.gpkg')\n",
    "facade = geopandas.read_file(filepath)\n",
    "\n",
    "filepath = os.path.join(folder, 'toits.gpkg')\n",
    "toits = geopandas.read_file(filepath)\n",
    "\n",
    "bases.columns = [s.lower() for s in bases.columns]\n",
    "facade.columns = [s.lower() for s in facade.columns]\n",
    "toits.columns = [s.lower() for s in toits.columns]"
   ]
  },
  {
   "cell_type": "code",
   "execution_count": 21,
   "metadata": {},
   "outputs": [],
   "source": [
    "# filepath = './data/ge/bases.gpkg'\n",
    "# bases = geopandas.read_file(filepath, bbox=bbox)\n",
    "\n",
    "# filepath = './data/ge/facades.gpkg'\n",
    "# facade = geopandas.read_file(filepath, bbox=bbox)\n",
    "\n",
    "# filepath = './data/ge/toits.gpkg'\n",
    "# toits = geopandas.read_file(filepath, bbox=bbox)\n",
    "\n",
    "\n",
    "# bases.columns = [s.lower() for s in bases.columns]\n",
    "# facade.columns = [s.lower() for s in facade.columns]\n",
    "# toits.columns = [s.lower() for s in toits.columns]"
   ]
  },
  {
   "cell_type": "code",
   "execution_count": 7,
   "metadata": {},
   "outputs": [],
   "source": [
    "# TODO can make a lookup of buildings which is shorter with just EGID and point, using geopandas\n",
    "# select buildings using the BBOX. Then have an in-memory 'DB' of geoms - just a dict keyed with egid\n",
    "# so you can select geoms just by subselecting from the dict"
   ]
  },
  {
   "cell_type": "code",
   "execution_count": 8,
   "metadata": {},
   "outputs": [
    {
     "ename": "KeyError",
     "evalue": "'MAPBOX_API_KEY'",
     "output_type": "error",
     "traceback": [
      "\u001b[1;31m---------------------------------------------------------------------------\u001b[0m",
      "\u001b[1;31mKeyError\u001b[0m                                  Traceback (most recent call last)",
      "\u001b[1;32mc:\\Users\\ferat\\Documents\\Github\\ipybuilding\\tutorials\\gpkg.ipynb Cell 8'\u001b[0m in \u001b[0;36m<cell line: 1>\u001b[1;34m()\u001b[0m\n\u001b[1;32m----> <a href='vscode-notebook-cell:/c%3A/Users/ferat/Documents/Github/ipybuilding/tutorials/gpkg.ipynb#ch0000009?line=0'>1</a>\u001b[0m MAPBOX_API_KEY \u001b[39m=\u001b[39m os\u001b[39m.\u001b[39;49menviron[\u001b[39m\"\u001b[39;49m\u001b[39mMAPBOX_API_KEY\u001b[39;49m\u001b[39m\"\u001b[39;49m]\n",
      "File \u001b[1;32mc:\\Users\\ferat\\AppData\\Local\\Continuum\\miniconda3\\envs\\ipybuilding\\lib\\os.py:675\u001b[0m, in \u001b[0;36m_Environ.__getitem__\u001b[1;34m(self, key)\u001b[0m\n\u001b[0;32m    <a href='file:///c%3A/Users/ferat/AppData/Local/Continuum/miniconda3/envs/ipybuilding/lib/os.py?line=671'>672</a>\u001b[0m     value \u001b[39m=\u001b[39m \u001b[39mself\u001b[39m\u001b[39m.\u001b[39m_data[\u001b[39mself\u001b[39m\u001b[39m.\u001b[39mencodekey(key)]\n\u001b[0;32m    <a href='file:///c%3A/Users/ferat/AppData/Local/Continuum/miniconda3/envs/ipybuilding/lib/os.py?line=672'>673</a>\u001b[0m \u001b[39mexcept\u001b[39;00m \u001b[39mKeyError\u001b[39;00m:\n\u001b[0;32m    <a href='file:///c%3A/Users/ferat/AppData/Local/Continuum/miniconda3/envs/ipybuilding/lib/os.py?line=673'>674</a>\u001b[0m     \u001b[39m# raise KeyError with the original key value\u001b[39;00m\n\u001b[1;32m--> <a href='file:///c%3A/Users/ferat/AppData/Local/Continuum/miniconda3/envs/ipybuilding/lib/os.py?line=674'>675</a>\u001b[0m     \u001b[39mraise\u001b[39;00m \u001b[39mKeyError\u001b[39;00m(key) \u001b[39mfrom\u001b[39;00m \u001b[39mNone\u001b[39m\n\u001b[0;32m    <a href='file:///c%3A/Users/ferat/AppData/Local/Continuum/miniconda3/envs/ipybuilding/lib/os.py?line=675'>676</a>\u001b[0m \u001b[39mreturn\u001b[39;00m \u001b[39mself\u001b[39m\u001b[39m.\u001b[39mdecodevalue(value)\n",
      "\u001b[1;31mKeyError\u001b[0m: 'MAPBOX_API_KEY'"
     ]
    }
   ],
   "source": [
    "MAPBOX_API_KEY = os.environ[\"MAPBOX_API_KEY\"]"
   ]
  },
  {
   "cell_type": "code",
   "execution_count": 9,
   "metadata": {},
   "outputs": [],
   "source": [
    "heat_demand = pd.read_csv('data/ge_heat_demand.csv')"
   ]
  },
  {
   "cell_type": "code",
   "execution_count": 47,
   "metadata": {},
   "outputs": [],
   "source": [
    "bases = bases.merge(heat_demand, on='egid')\n",
    "\n",
    "norm = mpl.colors.LogNorm(vmin=1, vmax=bases.q_heat_total.max())\n",
    "cmap = mpl.cm.get_cmap('plasma')\n",
    "\n",
    "cmap_val = cmap(norm(bases.q_heat_total)) \n",
    "\n",
    "bases['color'] = (cmap_val* 255).astype(int).tolist()"
   ]
  },
  {
   "cell_type": "code",
   "execution_count": 48,
   "metadata": {},
   "outputs": [],
   "source": [
    "toits = toits.merge(heat_demand, on='egid')\n",
    "\n",
    "norm = mpl.colors.LogNorm(vmin=1, vmax=toits.q_heat_total.max())\n",
    "cmap = mpl.cm.get_cmap('plasma')\n",
    "\n",
    "cmap_val = cmap(norm(toits.q_heat_total)) \n",
    "\n",
    "toits['color'] = (cmap_val* 255).astype(int).tolist()\n"
   ]
  },
  {
   "cell_type": "code",
   "execution_count": 49,
   "metadata": {},
   "outputs": [],
   "source": [
    "facade = facade.merge(heat_demand, on='egid')\n",
    "\n",
    "norm = mpl.colors.LogNorm(vmin=1, vmax=facade.q_heat_total.max())\n",
    "cmap = mpl.cm.get_cmap('plasma')\n",
    "\n",
    "cmap_val = cmap(norm(facade.q_heat_total)) \n",
    "\n",
    "facade['color'] = (cmap_val* 255).astype(int).tolist()\n"
   ]
  },
  {
   "cell_type": "code",
   "execution_count": 13,
   "metadata": {},
   "outputs": [],
   "source": [
    "vals = []\n",
    "def _f(*args, **kwargs):\n",
    "    global vals\n",
    "    vals.append((args, kwargs))"
   ]
  },
  {
   "cell_type": "code",
   "execution_count": 30,
   "metadata": {},
   "outputs": [],
   "source": [
    "\n",
    "def filtered_buildings_geom(bbox):\n",
    "    return (bases.cx[bbox[0]: bbox[2], bbox[1]:bbox[3]],\n",
    "            facade.cx[bbox[0]: bbox[2], bbox[1]:bbox[3]],\n",
    "            toits.cx[bbox[0]: bbox[2], bbox[1]:bbox[3]])"
   ]
  },
  {
   "cell_type": "code",
   "execution_count": 29,
   "metadata": {},
   "outputs": [],
   "source": [
    "f_base, f_face, f_toit = filtered_buildings_geom(bbox)"
   ]
  },
  {
   "cell_type": "code",
   "execution_count": 71,
   "metadata": {},
   "outputs": [
    {
     "name": "stderr",
     "output_type": "stream",
     "text": [
      "/var/folders/23/f82vmc8x4d18zwnnbl6dxvnw0000gn/T/ipykernel_82656/1168186431.py:1: UserWarning: Geometry is in a geographic CRS. Results from 'centroid' are likely incorrect. Use 'GeoSeries.to_crs()' to re-project geometries to a projected CRS before this operation.\n",
      "\n",
      "  coords = f_base.centroid.map(lambda p: [p.x, p.y])\n"
     ]
    }
   ],
   "source": [
    "coords = f_base.centroid.map(lambda p: [p.x, p.y])\n",
    "\n",
    "INITIAL_VIEW_STATE = pydeck.data_utils.compute_view(coords.values)\n",
    "INITIAL_VIEW_STATE.zoom = 16\n",
    "INITIAL_VIEW_STATE.max_zoom = 16"
   ]
  },
  {
   "cell_type": "code",
   "execution_count": 75,
   "metadata": {},
   "outputs": [
    {
     "data": {
      "application/vnd.jupyter.widget-view+json": {
       "model_id": "5a8d5111c0b1493495f312cfae5807f4",
       "version_major": 2,
       "version_minor": 0
      },
      "text/plain": [
       "HTML(value='Buildings in viewport: 36')"
      ]
     },
     "metadata": {},
     "output_type": "display_data"
    },
    {
     "data": {
      "application/vnd.jupyter.widget-view+json": {
       "model_id": "2fa9c3c48bb84a0ab87b8970197c8ce0",
       "version_major": 2,
       "version_minor": 0
      },
      "text/plain": [
       "DeckGLWidget(carto_key=None, custom_libraries=[], google_maps_key=None, json_input='{\"initialViewState\": {\"lat…"
      ]
     },
     "metadata": {},
     "output_type": "display_data"
    }
   ],
   "source": [
    "# AWS Open Data Terrain Tiles\n",
    "TERRAIN_IMAGE = \"https://s3.amazonaws.com/elevation-tiles-prod/terrarium/{z}/{x}/{y}.png\"\n",
    "\n",
    "# Define how to parse elevation tiles\n",
    "ELEVATION_DECODER = {\"rScaler\": 256, \"gScaler\": 1, \"bScaler\": 1 / 256, \"offset\": -32768}\n",
    "\n",
    "SURFACE_IMAGE = f\"https://api.mapbox.com/v4/mapbox.satellite/{{z}}/{{x}}/{{y}}@2x.png?access_token={MAPBOX_API_KEY}\"\n",
    "\n",
    "\n",
    "# lights = pydeck.LightSettings(\n",
    "#         lights_position=[start_point[0], start_point[1], 8000, -3.807751, 54.104682, 8000], ambient_ratio=0.4, diffuse_ratio=0.6,\n",
    "#     lights_strength=0.1\n",
    "#     )\n",
    "\n",
    "\n",
    "# lights = pydeck.LightSettings(\n",
    "#     number_of_lights=1,\n",
    "#         lights_position=[start_point[0]+1, start_point[1]+1, 80], ambient_ratio=0.4, diffuse_ratio=0.6,\n",
    "#     lights_strength=0.1\n",
    "#     )\n",
    "\n",
    "\n",
    "terrain_layer = pydeck.Layer(\n",
    "    \"TerrainLayer\", elevation_decoder=ELEVATION_DECODER, texture=SURFACE_IMAGE, elevation_data=TERRAIN_IMAGE,\n",
    "    # light_settings=lights\n",
    "\n",
    ")\n",
    "\n",
    "\n",
    "bases_layer = pydeck.Layer('GeoJsonLayer', \n",
    "                           data=f_base, get_fill_color=[255,100,255], pickable=True\n",
    "                          )\n",
    "facade_layer = pydeck.Layer('GeoJsonLayer', \n",
    "                            data=f_face, \n",
    "                            get_fill_color='color', \n",
    "                            line_width_scale=0.1,\n",
    "                            pickable=True,\n",
    "                            # stroked=False,\n",
    "                            filled=True,\n",
    "                            wireframe=True,\n",
    "                            # light_settings=lights\n",
    "\n",
    "                           )\n",
    "# facade_layer = pydeck.Layer('GeoJsonLayer', data=facade, get_fill_color='color', pickable=True)\n",
    "toits_layer = pydeck.Layer('GeoJsonLayer', \n",
    "                           data=f_toit, \n",
    "                           get_fill_color='color', \n",
    "                           pickable=True,\n",
    "                           stroked=False,\n",
    "                           filled=True,\n",
    "                           wireframe=True,\n",
    "                          )\n",
    "\n",
    "r = pydeck.Deck(\n",
    "    layers=[\n",
    "        terrain_layer,\n",
    "        bases_layer, \n",
    "        facade_layer, \n",
    "        toits_layer\n",
    "    ],\n",
    "    initial_view_state=INITIAL_VIEW_STATE,\n",
    "    map_style='satellite'\n",
    ")\n",
    "\n",
    "\n",
    "def filter_by_viewport(widget_instance, payload):\n",
    "    try:\n",
    "        west_lng, north_lat = payload['data']['nw']\n",
    "        east_lng, south_lat = payload['data']['se']\n",
    "        pad = 0.001\n",
    "        bbox = [east_lng - pad, south_lat -pad, west_lng+pad, north_lat+pad, ]\n",
    "        \n",
    "        f_base, f_face, f_toit = filtered_buildings_geom(bbox)\n",
    "        txt = f'Buildings in view ({east_lng:.2f} {south_lat:.2f} {west_lng:.2f} {north_lat:.2f}): {f_base.egid.nunique()}'\n",
    "        if f_base.egid.nunique() > MAX_BUILDINGS:\n",
    "            # dont try to show too much stuff!\n",
    "            txt += ' TOO MANY BUILDINGS TO SHOW, TRY ZOOMING IN'\n",
    "            pass\n",
    "        else:\n",
    "        \n",
    "            bases_layer.data = f_base\n",
    "            facade_layer.data = f_face\n",
    "            toits_layer.data = f_toit\n",
    "        \n",
    "        text.value = txt\n",
    "        \n",
    "        r.update()\n",
    "    except Exception as e:\n",
    "        text.value = 'Error: %s' % e\n",
    "\n",
    "from ipywidgets import HTML\n",
    "\n",
    "text = HTML(value=f'Buildings in viewport: { f_base.egid.nunique()}')\n",
    "\n",
    "r.deck_widget.on_view_state_change(filter_by_viewport)\n",
    "display(text)\n",
    "\n",
    "r.show()"
   ]
  }
 ],
 "metadata": {
  "interpreter": {
   "hash": "8bcd2f8224bcbfbbb4d381b48909b697fa5dc1b65277d73c3ab02ad7bc4d6b75"
  },
  "kernelspec": {
   "display_name": "Python 3.8.13 ('ipybuilding')",
   "language": "python",
   "name": "python3"
  },
  "language_info": {
   "codemirror_mode": {
    "name": "ipython",
    "version": 3
   },
   "file_extension": ".py",
   "mimetype": "text/x-python",
   "name": "python",
   "nbconvert_exporter": "python",
   "pygments_lexer": "ipython3",
   "version": "3.8.13"
  }
 },
 "nbformat": 4,
 "nbformat_minor": 4
}
