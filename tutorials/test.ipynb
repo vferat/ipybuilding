{
 "cells": [
  {
   "cell_type": "code",
   "execution_count": null,
   "metadata": {},
   "outputs": [],
   "source": [
    "import geopandas\n",
    "import fiona\n",
    "\n",
    "print('Importing bases...')\n",
    "filepath = './data/CAD_BATI3D_BASE.gml'\n",
    "bases = geopandas.read_file(filepath)\n",
    "print('Converting bases to espg4326')\n",
    "bases = bases.set_crs(crs=None, epsg=2056)\n",
    "bases = bases.to_crs(crs=None, epsg=4326)\n",
    "\n",
    "\"\"\"print('Importing facades...')\n",
    "filepath = './data/CAD_BATI3D_BASIC_FACADE.gml'\n",
    "facades = geopandas.read_file(filepath)\n",
    "print('Converting facades to espg4326')\n",
    "à = facades.set_crs(crs=None, epsg=2056)\n",
    "facades = facades.to_crs(crs=None, epsg=4326)\n",
    "\"\"\"\n",
    "\n",
    "print('Importing toits...')\n",
    "filepath = './data/CAD_BATI3D_BASIC_TOIT.gml'\n",
    "toits = geopandas.read_file(filepath)\n",
    "print('Converting toits to espg4326')\n",
    "toits = toits.set_crs(crs=None, epsg=2056)\n",
    "toits = toits.to_crs(crs=None, epsg=4326)"
   ]
  },
  {
   "cell_type": "code",
   "execution_count": null,
   "metadata": {},
   "outputs": [],
   "source": [
    "bases['coordinates'] = [list(bases['geometry'][i].geoms[0].exterior.coords) for i in range(0,len(bases))]\n",
    "bases['2D_coordinates'] = [np.array(list(bases['geometry'][i].geoms[0].exterior.coords))[:,:2].tolist()for i in range(0,len(bases))]\n",
    "bases['base_z'] = [np.mean(np.array(list(bases['geometry'][i].geoms[0].exterior.coords))[:,1])for i in range(0,len(bases))]\n",
    "data = bases.merge(toits, how='inner', on='EGID', suffixes=('_bases', '_toit'))\n",
    "data['hauteur'] = data['ALTITUDE_MAX'] - data['base_z']"
   ]
  },
  {
   "cell_type": "code",
   "execution_count": null,
   "metadata": {},
   "outputs": [],
   "source": [
    "data"
   ]
  },
  {
   "cell_type": "markdown",
   "metadata": {},
   "source": [
    "## no elevation"
   ]
  },
  {
   "cell_type": "code",
   "execution_count": null,
   "metadata": {},
   "outputs": [],
   "source": [
    "import pydeck\n",
    "\n",
    "INITIAL_VIEW_STATE = pydeck.ViewState(\n",
    "  latitude=46.1966,\n",
    "  longitude=6.09,\n",
    "  zoom=11,\n",
    "  max_zoom=50,\n",
    "  pitch=45,\n",
    "  bearing=0\n",
    ")\n",
    "\n",
    "bases_layer = pydeck.Layer('PolygonLayer',\n",
    "                           data=bases,\n",
    "                           opacity=0.8,\n",
    "                           stroked=False,\n",
    "                           get_polygon=\"2D_coordinates\",\n",
    "                           filled=True,\n",
    "                           extruded=True,\n",
    "                           wireframe=True,\n",
    "                           get_elevation='hauteur',\n",
    "                           get_fill_color=[255, 0, 255],\n",
    "                           get_line_color=[255, 255, 255],\n",
    "                           auto_highlight=True,\n",
    "                           pickable=True)\n",
    "\n",
    "r = pydeck.Deck(\n",
    "    layers=[bases_layer],\n",
    "    initial_view_state=INITIAL_VIEW_STATE)\n",
    "\n",
    "# r.show()\n",
    "r.to_html()"
   ]
  },
  {
   "cell_type": "markdown",
   "metadata": {},
   "source": [
    "### elevation"
   ]
  },
  {
   "cell_type": "code",
   "execution_count": null,
   "metadata": {},
   "outputs": [],
   "source": [
    "import pydeck\n",
    "\n",
    "INITIAL_VIEW_STATE = pydeck.ViewState(\n",
    "  latitude=46.1966,\n",
    "  longitude=6.09,\n",
    "  zoom=11,\n",
    "  max_zoom=32,\n",
    "  pitch=45,\n",
    "  bearing=0\n",
    ")\n",
    "\n",
    "bases_layer = pydeck.Layer('PolygonLayer',\n",
    "                           data=bases,\n",
    "                           opacity=0.8,\n",
    "                           stroked=False,\n",
    "                           get_polygon=\"coordinates\",\n",
    "                           filled=True,\n",
    "                           extruded=True,\n",
    "                           wireframe=True,\n",
    "                           get_elevation='ALTITUDE_MAX',\n",
    "                           get_fill_color=[255, 0, 255],\n",
    "                           get_line_color=[255, 255, 255],\n",
    "                           auto_highlight=True,\n",
    "                           pickable=True)\n",
    "\n",
    "r = pydeck.Deck(\n",
    "    layers=[bases_layer],\n",
    "    initial_view_state=INITIAL_VIEW_STATE)\n",
    "\n",
    "# r.show()\n",
    "r.to_html()"
   ]
  }
 ],
 "metadata": {
  "interpreter": {
   "hash": "5c71747199ccf75ddaf3883c03e7cbdd89e76ecde656ff7751201a2aee1b439a"
  },
  "kernelspec": {
   "display_name": "Python 3.8.12 ('p3')",
   "language": "python",
   "name": "python3"
  },
  "language_info": {
   "codemirror_mode": {
    "name": "ipython",
    "version": 3
   },
   "file_extension": ".py",
   "mimetype": "text/x-python",
   "name": "python",
   "nbconvert_exporter": "python",
   "pygments_lexer": "ipython3",
   "version": "3.8.12"
  }
 },
 "nbformat": 4,
 "nbformat_minor": 2
}
