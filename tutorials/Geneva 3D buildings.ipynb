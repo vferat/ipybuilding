{
 "cells": [
  {
   "cell_type": "code",
   "execution_count": 1,
   "metadata": {
    "pycharm": {
     "name": "#%%\n"
    }
   },
   "outputs": [],
   "source": [
    "import os\n",
    "\n",
    "import geopandas\n",
    "import matplotlib as mpl\n",
    "import pandas as pd\n",
    "import pydeck"
   ]
  },
  {
   "cell_type": "code",
   "execution_count": 2,
   "metadata": {},
   "outputs": [],
   "source": [
    "MAPBOX_API_KEY = os.environ[\"MAPBOX_API_KEY\"]"
   ]
  },
  {
   "cell_type": "code",
   "execution_count": 3,
   "metadata": {
    "pycharm": {
     "name": "#%%\n"
    }
   },
   "outputs": [],
   "source": [
    "MAX_BUILDINGS = 6000"
   ]
  },
  {
   "cell_type": "code",
   "execution_count": 4,
   "metadata": {
    "pycharm": {
     "name": "#%%\n"
    }
   },
   "outputs": [],
   "source": [
    "start_point = (6.1402,46.208742)"
   ]
  },
  {
   "cell_type": "code",
   "execution_count": 5,
   "metadata": {
    "pycharm": {
     "name": "#%%\n"
    }
   },
   "outputs": [],
   "source": [
    "delta = 0.001\n",
    "bbox =  (start_point[0] - delta, start_point[1]-delta, start_point[0] + delta, start_point[1]+delta) "
   ]
  },
  {
   "cell_type": "code",
   "execution_count": 6,
   "metadata": {},
   "outputs": [],
   "source": [
    "from ipybuilding.datasets import geneva\n",
    "\n",
    "base_path, facade_path, roof_path = geneva.load_data()"
   ]
  },
  {
   "cell_type": "code",
   "execution_count": 7,
   "metadata": {
    "pycharm": {
     "name": "#%%\n"
    }
   },
   "outputs": [],
   "source": [
    "bases = geopandas.read_file(base_path)\n",
    "\n",
    "facade = geopandas.read_file(facade_path)\n",
    "\n",
    "toits = geopandas.read_file(roof_path)\n",
    "\n",
    "\n",
    "bases.columns = [s.lower() for s in bases.columns]\n",
    "facade.columns = [s.lower() for s in facade.columns]\n",
    "toits.columns = [s.lower() for s in toits.columns]"
   ]
  },
  {
   "cell_type": "code",
   "execution_count": 8,
   "metadata": {
    "pycharm": {
     "name": "#%%\n"
    }
   },
   "outputs": [],
   "source": [
    "path = 'Geneva/SCANE_INDICE_DERNIER.csv'\n",
    "heat_demand = pd.read_csv(path, sep=';')\n",
    "heat_demand.columns = [s.lower() for s in heat_demand.columns]\n",
    "heat_demand.egid = heat_demand.egid.astype(int)"
   ]
  },
  {
   "cell_type": "code",
   "execution_count": 9,
   "metadata": {},
   "outputs": [],
   "source": [
    "bases = bases.merge(heat_demand, on='egid')\n",
    "facade = facade.merge(heat_demand, on='egid')\n",
    "toits = toits.merge(heat_demand, on='egid')"
   ]
  },
  {
   "cell_type": "code",
   "execution_count": 10,
   "metadata": {},
   "outputs": [],
   "source": [
    "colourmap_name = 'RdYlGn_r'"
   ]
  },
  {
   "cell_type": "code",
   "execution_count": 11,
   "metadata": {
    "pycharm": {
     "name": "#%%\n"
    }
   },
   "outputs": [],
   "source": [
    "norm = mpl.colors.Normalize(vmin=1, vmax=bases.indice.quantile(0.95))\n",
    "cmap = mpl.cm.get_cmap(colourmap_name)\n",
    "\n",
    "cmap_val = cmap(norm(bases.indice)) \n",
    "\n",
    "bases['color'] = (cmap_val* 255).astype(int).tolist()"
   ]
  },
  {
   "cell_type": "code",
   "execution_count": 12,
   "metadata": {
    "pycharm": {
     "name": "#%%\n"
    }
   },
   "outputs": [],
   "source": [
    "norm = mpl.colors.Normalize(vmin=1, vmax=toits.indice.quantile(0.95))\n",
    "cmap = mpl.cm.get_cmap(colourmap_name)\n",
    "\n",
    "cmap_val = cmap(norm(toits.indice)) \n",
    "\n",
    "toits['color'] = (cmap_val* 255).astype(int).tolist()\n"
   ]
  },
  {
   "cell_type": "code",
   "execution_count": 13,
   "metadata": {
    "pycharm": {
     "name": "#%%\n"
    }
   },
   "outputs": [],
   "source": [
    "norm = mpl.colors.Normalize(vmin=1, vmax=facade.indice.quantile(0.95))\n",
    "cmap = mpl.cm.get_cmap(colourmap_name)\n",
    "\n",
    "cmap_val = cmap(norm(facade.indice)) \n",
    "\n",
    "facade['color'] = (cmap_val* 255).astype(int).tolist()"
   ]
  },
  {
   "cell_type": "code",
   "execution_count": 14,
   "metadata": {},
   "outputs": [],
   "source": [
    "keep_columns = ['egid', 'geometry', 'indice', 'color']\n",
    "bases = bases[keep_columns]\n",
    "facade = facade[keep_columns]\n",
    "toits = toits[keep_columns]"
   ]
  },
  {
   "cell_type": "code",
   "execution_count": 15,
   "metadata": {
    "pycharm": {
     "name": "#%%\n"
    }
   },
   "outputs": [],
   "source": [
    "def filtered_buildings_geom(bbox):\n",
    "    return (bases.cx[bbox[0]: bbox[2], bbox[1]:bbox[3]],\n",
    "            facade.cx[bbox[0]: bbox[2], bbox[1]:bbox[3]],\n",
    "            toits.cx[bbox[0]: bbox[2], bbox[1]:bbox[3]])"
   ]
  },
  {
   "cell_type": "code",
   "execution_count": 16,
   "metadata": {
    "pycharm": {
     "name": "#%%\n"
    }
   },
   "outputs": [],
   "source": [
    "f_base, f_face, f_toit = filtered_buildings_geom(bbox)\n"
   ]
  },
  {
   "cell_type": "code",
   "execution_count": 17,
   "metadata": {
    "pycharm": {
     "name": "#%%\n"
    }
   },
   "outputs": [
    {
     "name": "stderr",
     "output_type": "stream",
     "text": [
      "/var/folders/23/f82vmc8x4d18zwnnbl6dxvnw0000gn/T/ipykernel_93360/3829069764.py:1: UserWarning: Geometry is in a geographic CRS. Results from 'centroid' are likely incorrect. Use 'GeoSeries.to_crs()' to re-project geometries to a projected CRS before this operation.\n",
      "\n",
      "  coords = f_base.centroid.map(lambda p: [p.x, p.y])\n"
     ]
    }
   ],
   "source": [
    "coords = f_base.centroid.map(lambda p: [p.x, p.y])\n",
    "\n",
    "INITIAL_VIEW_STATE = pydeck.data_utils.compute_view(coords.values)\n",
    "INITIAL_VIEW_STATE.zoom = 16\n",
    "INITIAL_VIEW_STATE.max_zoom = 16\n"
   ]
  },
  {
   "cell_type": "code",
   "execution_count": 18,
   "metadata": {
    "pycharm": {
     "name": "#%%\n"
    }
   },
   "outputs": [
    {
     "data": {
      "application/vnd.jupyter.widget-view+json": {
       "model_id": "ef69a25b6cf14a22b383eba3e41eb88f",
       "version_major": 2,
       "version_minor": 0
      },
      "text/plain": [
       "HTML(value='Buildings in viewport: 20')"
      ]
     },
     "metadata": {},
     "output_type": "display_data"
    },
    {
     "data": {
      "application/vnd.jupyter.widget-view+json": {
       "model_id": "6023e0adb10e48479f8887d5839e0576",
       "version_major": 2,
       "version_minor": 0
      },
      "text/plain": [
       "DeckGLWidget(carto_key=None, custom_libraries=[], google_maps_key=None, json_input='{\"initialViewState\": {\"lat…"
      ]
     },
     "metadata": {},
     "output_type": "display_data"
    }
   ],
   "source": [
    "# AWS Open Data Terrain Tiles\n",
    "TERRAIN_IMAGE = \"https://s3.amazonaws.com/elevation-tiles-prod/terrarium/{z}/{x}/{y}.png\"\n",
    "\n",
    "# Define how to parse elevation tiles\n",
    "ELEVATION_DECODER = {\"rScaler\": 256, \"gScaler\": 1, \"bScaler\": 1 / 256, \"offset\": -32768}\n",
    "\n",
    "SURFACE_IMAGE = f\"https://api.mapbox.com/v4/mapbox.satellite/{{z}}/{{x}}/{{y}}@2x.png?access_token={MAPBOX_API_KEY}\"\n",
    "\n",
    "\n",
    "terrain_layer = pydeck.Layer(\n",
    "    \"TerrainLayer\", elevation_decoder=ELEVATION_DECODER, texture=SURFACE_IMAGE, elevation_data=TERRAIN_IMAGE,\n",
    "    # light_settings=lights\n",
    "\n",
    ")\n",
    "\n",
    "\n",
    "bases_layer = pydeck.Layer('GeoJsonLayer', \n",
    "                           data=f_base, get_fill_color=[255,100,255], pickable=True\n",
    "                          )\n",
    "facade_layer = pydeck.Layer('GeoJsonLayer', \n",
    "                            data=f_face, \n",
    "                            get_fill_color='color', \n",
    "                            line_width_scale=0.1,\n",
    "                            pickable=True,\n",
    "                            filled=True,\n",
    "                            wireframe=True,\n",
    "                           )\n",
    "\n",
    "toits_layer = pydeck.Layer('GeoJsonLayer', \n",
    "                           data=f_toit, \n",
    "                           get_fill_color='color', \n",
    "                           pickable=True,\n",
    "                           stroked=False,\n",
    "                           filled=True,\n",
    "                           wireframe=True,\n",
    "                      )\n",
    "\n",
    "r = pydeck.Deck(\n",
    "    layers=[\n",
    "        terrain_layer,\n",
    "        bases_layer, \n",
    "        facade_layer, \n",
    "        toits_layer\n",
    "    ],\n",
    "    initial_view_state=INITIAL_VIEW_STATE,\n",
    "    map_style='satellite',\n",
    "    tooltip={\n",
    "        'text': 'IDC: {indice} MJ/m2·a'\n",
    "    }\n",
    ")\n",
    "\n",
    "\n",
    "def filter_by_viewport(widget_instance, payload):\n",
    "    try:\n",
    "        west_lng, north_lat = payload['data']['nw']\n",
    "        east_lng, south_lat = payload['data']['se']\n",
    "        pad = 0.002\n",
    "        bbox = [east_lng - pad, south_lat -pad, west_lng+pad, north_lat+pad, ]\n",
    "        \n",
    "        f_base, f_face, f_toit = filtered_buildings_geom(bbox)\n",
    "        txt = f'Buildings in view ({east_lng:.2f} {south_lat:.2f} {west_lng:.2f} {north_lat:.2f}): {f_base.egid.nunique()}'\n",
    "        if f_base.egid.nunique() > MAX_BUILDINGS:\n",
    "            # dont try to show too much stuff!\n",
    "            txt += ' TOO MANY BUILDINGS TO SHOW, TRY ZOOMING IN'\n",
    "            pass\n",
    "        else:\n",
    "        \n",
    "            bases_layer.data = f_base\n",
    "            facade_layer.data = f_face\n",
    "            toits_layer.data = f_toit\n",
    "        \n",
    "        text.value = txt\n",
    "        \n",
    "        r.update()\n",
    "    except Exception as e:\n",
    "        text.value = 'Error: %s' % e\n",
    "\n",
    "from ipywidgets import HTML\n",
    "\n",
    "text = HTML(value=f'Buildings in viewport: { f_base.egid.nunique()}')\n",
    "\n",
    "r.deck_widget.on_view_state_change(filter_by_viewport)\n",
    "display(text)\n",
    "\n",
    "r.show()"
   ]
  },
  {
   "cell_type": "code",
   "execution_count": null,
   "metadata": {
    "pycharm": {
     "name": "#%%\n"
    }
   },
   "outputs": [],
   "source": []
  },
  {
   "cell_type": "code",
   "execution_count": null,
   "metadata": {},
   "outputs": [],
   "source": []
  }
 ],
 "metadata": {
  "interpreter": {
   "hash": "5c71747199ccf75ddaf3883c03e7cbdd89e76ecde656ff7751201a2aee1b439a"
  },
  "kernelspec": {
   "display_name": "Python 3 (ipykernel)",
   "language": "python",
   "name": "python3"
  },
  "language_info": {
   "codemirror_mode": {
    "name": "ipython",
    "version": 3
   },
   "file_extension": ".py",
   "mimetype": "text/x-python",
   "name": "python",
   "nbconvert_exporter": "python",
   "pygments_lexer": "ipython3",
   "version": "3.9.12"
  }
 },
 "nbformat": 4,
 "nbformat_minor": 4
}
