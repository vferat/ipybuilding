{
 "cells": [
  {
   "cell_type": "code",
   "execution_count": 1,
   "metadata": {},
   "outputs": [
    {
     "name": "stdout",
     "output_type": "stream",
     "text": [
      "Importing bases...\n"
     ]
    },
    {
     "ename": "KeyboardInterrupt",
     "evalue": "",
     "output_type": "error",
     "traceback": [
      "\u001b[0;31m---------------------------------------------------------------------------\u001b[0m",
      "\u001b[0;31mKeyboardInterrupt\u001b[0m                         Traceback (most recent call last)",
      "Input \u001b[0;32mIn [1]\u001b[0m, in \u001b[0;36m<module>\u001b[0;34m\u001b[0m\n\u001b[1;32m      4\u001b[0m \u001b[38;5;28mprint\u001b[39m(\u001b[38;5;124m'\u001b[39m\u001b[38;5;124mImporting bases...\u001b[39m\u001b[38;5;124m'\u001b[39m)\n\u001b[1;32m      5\u001b[0m filepath \u001b[38;5;241m=\u001b[39m \u001b[38;5;124m'\u001b[39m\u001b[38;5;124m./data/CAD_BATI3D_BASE.gml\u001b[39m\u001b[38;5;124m'\u001b[39m\n\u001b[0;32m----> 6\u001b[0m bases \u001b[38;5;241m=\u001b[39m \u001b[43mgeopandas\u001b[49m\u001b[38;5;241;43m.\u001b[39;49m\u001b[43mread_file\u001b[49m\u001b[43m(\u001b[49m\u001b[43mfilepath\u001b[49m\u001b[43m)\u001b[49m\n\u001b[1;32m      7\u001b[0m \u001b[38;5;28mprint\u001b[39m(\u001b[38;5;124m'\u001b[39m\u001b[38;5;124mConverting bases to espg4326\u001b[39m\u001b[38;5;124m'\u001b[39m)\n\u001b[1;32m      8\u001b[0m bases \u001b[38;5;241m=\u001b[39m bases\u001b[38;5;241m.\u001b[39mset_crs(crs\u001b[38;5;241m=\u001b[39m\u001b[38;5;28;01mNone\u001b[39;00m, epsg\u001b[38;5;241m=\u001b[39m\u001b[38;5;241m2056\u001b[39m)\n",
      "File \u001b[0;32m~/opt/anaconda3/envs/science/lib/python3.9/site-packages/geopandas/io/file.py:244\u001b[0m, in \u001b[0;36m_read_file\u001b[0;34m(filename, bbox, mask, rows, **kwargs)\u001b[0m\n\u001b[1;32m    239\u001b[0m \u001b[38;5;28;01mif\u001b[39;00m kwargs\u001b[38;5;241m.\u001b[39mget(\u001b[38;5;124m\"\u001b[39m\u001b[38;5;124mignore_geometry\u001b[39m\u001b[38;5;124m\"\u001b[39m, \u001b[38;5;28;01mFalse\u001b[39;00m):\n\u001b[1;32m    240\u001b[0m     \u001b[38;5;28;01mreturn\u001b[39;00m pd\u001b[38;5;241m.\u001b[39mDataFrame(\n\u001b[1;32m    241\u001b[0m         [record[\u001b[38;5;124m\"\u001b[39m\u001b[38;5;124mproperties\u001b[39m\u001b[38;5;124m\"\u001b[39m] \u001b[38;5;28;01mfor\u001b[39;00m record \u001b[38;5;129;01min\u001b[39;00m f_filt], columns\u001b[38;5;241m=\u001b[39mcolumns\n\u001b[1;32m    242\u001b[0m     )\n\u001b[0;32m--> 244\u001b[0m \u001b[38;5;28;01mreturn\u001b[39;00m \u001b[43mGeoDataFrame\u001b[49m\u001b[38;5;241;43m.\u001b[39;49m\u001b[43mfrom_features\u001b[49m\u001b[43m(\u001b[49m\n\u001b[1;32m    245\u001b[0m \u001b[43m    \u001b[49m\u001b[43mf_filt\u001b[49m\u001b[43m,\u001b[49m\u001b[43m \u001b[49m\u001b[43mcrs\u001b[49m\u001b[38;5;241;43m=\u001b[39;49m\u001b[43mcrs\u001b[49m\u001b[43m,\u001b[49m\u001b[43m \u001b[49m\u001b[43mcolumns\u001b[49m\u001b[38;5;241;43m=\u001b[39;49m\u001b[43mcolumns\u001b[49m\u001b[43m \u001b[49m\u001b[38;5;241;43m+\u001b[39;49m\u001b[43m \u001b[49m\u001b[43m[\u001b[49m\u001b[38;5;124;43m\"\u001b[39;49m\u001b[38;5;124;43mgeometry\u001b[39;49m\u001b[38;5;124;43m\"\u001b[39;49m\u001b[43m]\u001b[49m\n\u001b[1;32m    246\u001b[0m \u001b[43m\u001b[49m\u001b[43m)\u001b[49m\n",
      "File \u001b[0;32m~/opt/anaconda3/envs/science/lib/python3.9/site-packages/geopandas/geodataframe.py:605\u001b[0m, in \u001b[0;36mGeoDataFrame.from_features\u001b[0;34m(cls, features, crs, columns)\u001b[0m\n\u001b[1;32m    602\u001b[0m \u001b[38;5;28;01mif\u001b[39;00m \u001b[38;5;28mhasattr\u001b[39m(feature, \u001b[38;5;124m\"\u001b[39m\u001b[38;5;124m__geo_interface__\u001b[39m\u001b[38;5;124m\"\u001b[39m):\n\u001b[1;32m    603\u001b[0m     feature \u001b[38;5;241m=\u001b[39m feature\u001b[38;5;241m.\u001b[39m__geo_interface__\n\u001b[1;32m    604\u001b[0m row \u001b[38;5;241m=\u001b[39m {\n\u001b[0;32m--> 605\u001b[0m     \u001b[38;5;124m\"\u001b[39m\u001b[38;5;124mgeometry\u001b[39m\u001b[38;5;124m\"\u001b[39m: \u001b[43mshape\u001b[49m\u001b[43m(\u001b[49m\u001b[43mfeature\u001b[49m\u001b[43m[\u001b[49m\u001b[38;5;124;43m\"\u001b[39;49m\u001b[38;5;124;43mgeometry\u001b[39;49m\u001b[38;5;124;43m\"\u001b[39;49m\u001b[43m]\u001b[49m\u001b[43m)\u001b[49m \u001b[38;5;28;01mif\u001b[39;00m feature[\u001b[38;5;124m\"\u001b[39m\u001b[38;5;124mgeometry\u001b[39m\u001b[38;5;124m\"\u001b[39m] \u001b[38;5;28;01melse\u001b[39;00m \u001b[38;5;28;01mNone\u001b[39;00m\n\u001b[1;32m    606\u001b[0m }\n\u001b[1;32m    607\u001b[0m \u001b[38;5;66;03m# load properties\u001b[39;00m\n\u001b[1;32m    608\u001b[0m row\u001b[38;5;241m.\u001b[39mupdate(feature[\u001b[38;5;124m\"\u001b[39m\u001b[38;5;124mproperties\u001b[39m\u001b[38;5;124m\"\u001b[39m])\n",
      "File \u001b[0;32m~/opt/anaconda3/envs/science/lib/python3.9/site-packages/shapely/geometry/geo.py:118\u001b[0m, in \u001b[0;36mshape\u001b[0;34m(context)\u001b[0m\n\u001b[1;32m    116\u001b[0m     \u001b[38;5;28;01mreturn\u001b[39;00m MultiLineString(ob[\u001b[38;5;124m\"\u001b[39m\u001b[38;5;124mcoordinates\u001b[39m\u001b[38;5;124m\"\u001b[39m])\n\u001b[1;32m    117\u001b[0m \u001b[38;5;28;01melif\u001b[39;00m geom_type \u001b[38;5;241m==\u001b[39m \u001b[38;5;124m\"\u001b[39m\u001b[38;5;124mmultipolygon\u001b[39m\u001b[38;5;124m\"\u001b[39m:\n\u001b[0;32m--> 118\u001b[0m     \u001b[38;5;28;01mreturn\u001b[39;00m \u001b[43mMultiPolygon\u001b[49m\u001b[43m(\u001b[49m\u001b[43mob\u001b[49m\u001b[43m[\u001b[49m\u001b[38;5;124;43m\"\u001b[39;49m\u001b[38;5;124;43mcoordinates\u001b[39;49m\u001b[38;5;124;43m\"\u001b[39;49m\u001b[43m]\u001b[49m\u001b[43m,\u001b[49m\u001b[43m \u001b[49m\u001b[43mcontext_type\u001b[49m\u001b[38;5;241;43m=\u001b[39;49m\u001b[38;5;124;43m'\u001b[39;49m\u001b[38;5;124;43mgeojson\u001b[39;49m\u001b[38;5;124;43m'\u001b[39;49m\u001b[43m)\u001b[49m\n\u001b[1;32m    119\u001b[0m \u001b[38;5;28;01melif\u001b[39;00m geom_type \u001b[38;5;241m==\u001b[39m \u001b[38;5;124m\"\u001b[39m\u001b[38;5;124mgeometrycollection\u001b[39m\u001b[38;5;124m\"\u001b[39m:\n\u001b[1;32m    120\u001b[0m     geoms \u001b[38;5;241m=\u001b[39m [shape(g) \u001b[38;5;28;01mfor\u001b[39;00m g \u001b[38;5;129;01min\u001b[39;00m ob\u001b[38;5;241m.\u001b[39mget(\u001b[38;5;124m\"\u001b[39m\u001b[38;5;124mgeometries\u001b[39m\u001b[38;5;124m\"\u001b[39m, [])]\n",
      "File \u001b[0;32m~/opt/anaconda3/envs/science/lib/python3.9/site-packages/shapely/geometry/multipolygon.py:63\u001b[0m, in \u001b[0;36mMultiPolygon.__init__\u001b[0;34m(self, polygons, context_type)\u001b[0m\n\u001b[1;32m     61\u001b[0m \u001b[38;5;28;01melif\u001b[39;00m context_type \u001b[38;5;241m==\u001b[39m \u001b[38;5;124m'\u001b[39m\u001b[38;5;124mgeojson\u001b[39m\u001b[38;5;124m'\u001b[39m:\n\u001b[1;32m     62\u001b[0m     geom, n \u001b[38;5;241m=\u001b[39m geos_multipolygon_from_py(polygons)\n\u001b[0;32m---> 63\u001b[0m \u001b[38;5;28;43mself\u001b[39;49m\u001b[38;5;241;43m.\u001b[39;49m\u001b[43m_set_geom\u001b[49m\u001b[43m(\u001b[49m\u001b[43mgeom\u001b[49m\u001b[43m)\u001b[49m\n\u001b[1;32m     64\u001b[0m \u001b[38;5;28mself\u001b[39m\u001b[38;5;241m.\u001b[39m_ndim \u001b[38;5;241m=\u001b[39m n\n",
      "File \u001b[0;32m~/opt/anaconda3/envs/science/lib/python3.9/site-packages/shapely/geometry/base.py:241\u001b[0m, in \u001b[0;36mBaseGeometry._set_geom\u001b[0;34m(self, val)\u001b[0m\n\u001b[1;32m    240\u001b[0m \u001b[38;5;28;01mdef\u001b[39;00m \u001b[38;5;21m_set_geom\u001b[39m(\u001b[38;5;28mself\u001b[39m, val):\n\u001b[0;32m--> 241\u001b[0m     \u001b[38;5;28;43mself\u001b[39;49m\u001b[38;5;241;43m.\u001b[39;49m\u001b[43m_empty\u001b[49m\u001b[43m(\u001b[49m\u001b[43m)\u001b[49m\n\u001b[1;32m    242\u001b[0m     \u001b[38;5;28mself\u001b[39m\u001b[38;5;241m.\u001b[39m_is_empty \u001b[38;5;241m=\u001b[39m val \u001b[38;5;129;01min\u001b[39;00m [EMPTY, \u001b[38;5;28;01mNone\u001b[39;00m]\n\u001b[1;32m    243\u001b[0m     \u001b[38;5;28mself\u001b[39m\u001b[38;5;241m.\u001b[39m__geom__ \u001b[38;5;241m=\u001b[39m val\n",
      "File \u001b[0;32m~/opt/anaconda3/envs/science/lib/python3.9/site-packages/shapely/geometry/base.py:200\u001b[0m, in \u001b[0;36mBaseGeometry._empty\u001b[0;34m(self, val)\u001b[0m\n\u001b[1;32m    197\u001b[0m         log\u001b[38;5;241m.\u001b[39mexception(\u001b[38;5;124m\"\u001b[39m\u001b[38;5;124mFailed to delete GEOS geom\u001b[39m\u001b[38;5;124m\"\u001b[39m)\n\u001b[1;32m    199\u001b[0m \u001b[38;5;28mself\u001b[39m\u001b[38;5;241m.\u001b[39m_is_empty \u001b[38;5;241m=\u001b[39m \u001b[38;5;28;01mTrue\u001b[39;00m\n\u001b[0;32m--> 200\u001b[0m \u001b[38;5;28mself\u001b[39m\u001b[38;5;241m.\u001b[39m__geom__ \u001b[38;5;241m=\u001b[39m val\n",
      "File \u001b[0;32m~/opt/anaconda3/envs/science/lib/python3.9/site-packages/shapely/geometry/base.py:249\u001b[0m, in \u001b[0;36mBaseGeometry.__setattr__\u001b[0;34m(self, name, value)\u001b[0m\n\u001b[1;32m    245\u001b[0m \u001b[38;5;28;01mdef\u001b[39;00m \u001b[38;5;21m__setattr__\u001b[39m(\u001b[38;5;28mself\u001b[39m, name, value):\n\u001b[1;32m    246\u001b[0m     \u001b[38;5;66;03m# first try regular attribute access via __getattribute__, so that\u001b[39;00m\n\u001b[1;32m    247\u001b[0m     \u001b[38;5;66;03m# our own (existing) attributes don't raise a warning\u001b[39;00m\n\u001b[1;32m    248\u001b[0m     \u001b[38;5;28;01mtry\u001b[39;00m:\n\u001b[0;32m--> 249\u001b[0m         \u001b[38;5;28;43mobject\u001b[39;49m\u001b[38;5;241;43m.\u001b[39;49m\u001b[38;5;21;43m__getattribute__\u001b[39;49m(\u001b[38;5;28mself\u001b[39m, name)\n\u001b[1;32m    250\u001b[0m         \u001b[38;5;28msuper\u001b[39m()\u001b[38;5;241m.\u001b[39m\u001b[38;5;21m__setattr__\u001b[39m(name, value)\n\u001b[1;32m    251\u001b[0m         \u001b[38;5;28;01mreturn\u001b[39;00m\n",
      "\u001b[0;31mKeyboardInterrupt\u001b[0m: "
     ]
    }
   ],
   "source": [
    "import geopandas\n",
    "import fiona\n",
    "\n",
    "print('Importing bases...')\n",
    "filepath = './data/CAD_BATI3D_BASE.gml'\n",
    "bases = geopandas.read_file(filepath)\n",
    "print('Converting bases to espg4326')\n",
    "bases = bases.set_crs(crs=None, epsg=2056)\n",
    "bases = bases.to_crs(crs=None, epsg=4326)\n",
    "\n",
    "print('Importing facades...')\n",
    "filepath = './data/CAD_BATI3D_BASIC_FACADE.gml'\n",
    "facades = geopandas.read_file(filepath)\n",
    "print('Converting facades to espg4326')\n",
    "facades = facades.set_crs(crs=None, epsg=2056)\n",
    "facades = facades.to_crs(crs=None, epsg=4326)\n",
    "\n",
    "print('Importing toits...')\n",
    "filepath = './data/CAD_BATI3D_BASIC_TOIT.gml'\n",
    "toits = geopandas.read_file(filepath)\n",
    "print('Converting toits to espg4326')\n",
    "toits = toits.set_crs(crs=None, epsg=2056)\n",
    "toits = toits.to_crs(crs=None, epsg=4326)\n"
   ]
  },
  {
   "cell_type": "code",
   "execution_count": null,
   "metadata": {},
   "outputs": [],
   "source": [
    "bases = bases.drop('fid', axis=1)\n",
    "\n",
    "bases.to_file('data/bases.gpkg', driver='GPKG')\n",
    "\n",
    "toits = toits.drop('fid', axis=1)\n",
    "\n",
    "toits.to_file('data/toits.gpkg', driver='GPKG')\n",
    "\n",
    "facades = facades.drop('fid', axis=1)\n",
    "\n",
    "facades.to_file('data/facades.gpkg', driver='GPKG')"
   ]
  },
  {
   "cell_type": "code",
   "execution_count": 2,
   "metadata": {},
   "outputs": [
    {
     "name": "stdout",
     "output_type": "stream",
     "text": [
      "Importing bases...\n",
      "Importing facades...\n",
      "Importing toits...\n"
     ]
    },
    {
     "name": "stderr",
     "output_type": "stream",
     "text": [
      "/Users/jonathanchambers/opt/anaconda3/envs/science/lib/python3.9/site-packages/geopandas/io/file.py:362: FutureWarning: pandas.Int64Index is deprecated and will be removed from pandas in a future version. Use pandas.Index with the appropriate dtype instead.\n",
      "  pd.Int64Index,\n",
      "/Users/jonathanchambers/opt/anaconda3/envs/science/lib/python3.9/site-packages/geopandas/io/file.py:362: FutureWarning: pandas.Int64Index is deprecated and will be removed from pandas in a future version. Use pandas.Index with the appropriate dtype instead.\n",
      "  pd.Int64Index,\n",
      "/Users/jonathanchambers/opt/anaconda3/envs/science/lib/python3.9/site-packages/geopandas/io/file.py:362: FutureWarning: pandas.Int64Index is deprecated and will be removed from pandas in a future version. Use pandas.Index with the appropriate dtype instead.\n",
      "  pd.Int64Index,\n"
     ]
    }
   ],
   "source": [
    "import geopandas\n",
    "import fiona\n",
    "\n",
    "print('Importing bases...')\n",
    "filepath = './data/CAD_BATI3D_BASE.gml'\n",
    "bases = geopandas.read_file(filepath)\n",
    "bases = bases.set_crs(crs=None, epsg=2056)\n",
    "\n",
    "print('Importing facades...')\n",
    "filepath = './data/CAD_BATI3D_BASIC_FACADE.gml'\n",
    "facades = geopandas.read_file(filepath)\n",
    "facades = facades.set_crs(crs=None, epsg=2056)\n",
    "\n",
    "print('Importing toits...')\n",
    "filepath = './data/CAD_BATI3D_BASIC_TOIT.gml'\n",
    "toits = geopandas.read_file(filepath)\n",
    "toits = toits.set_crs(crs=None, epsg=2056)\n",
    "\n",
    "bases = bases.drop('fid', axis=1)\n",
    "\n",
    "bases.to_file('data/ge/bases_2056.gpkg', driver='GPKG')\n",
    "\n",
    "toits = toits.drop('fid', axis=1)\n",
    "\n",
    "toits.to_file('data/toits_2056.gpkg', driver='GPKG')\n",
    "\n",
    "facades = facades.drop('fid', axis=1)\n",
    "\n",
    "facades.to_file('data/facades_2056.gpkg', driver='GPKG')\n"
   ]
  },
  {
   "cell_type": "code",
   "execution_count": 18,
   "metadata": {},
   "outputs": [],
   "source": [
    "p = facades.geometry[0]"
   ]
  },
  {
   "cell_type": "code",
   "execution_count": 24,
   "metadata": {},
   "outputs": [],
   "source": [
    "p = list(p.geoms)[0]"
   ]
  },
  {
   "cell_type": "code",
   "execution_count": 26,
   "metadata": {},
   "outputs": [
    {
     "data": {
      "text/plain": [
       "{'type': 'Polygon',\n",
       " 'coordinates': (((6.139824310381044, 46.24863471469397, 406.445599999977),\n",
       "   (6.139828702457303, 46.24863581154768, 406.445599999977),\n",
       "   (6.139828703373532, 46.24863581309568, 414.343800000148),\n",
       "   (6.139824311297273, 46.24863471624197, 414.343800000148),\n",
       "   (6.139824310381044, 46.24863471469397, 406.445599999977)),)}"
      ]
     },
     "execution_count": 26,
     "metadata": {},
     "output_type": "execute_result"
    }
   ],
   "source": [
    "p.__geo_interface__"
   ]
  },
  {
   "cell_type": "code",
   "execution_count": null,
   "metadata": {},
   "outputs": [],
   "source": [
    "import pydeck\n",
    "\n",
    "INITIAL_VIEW_STATE = pydeck.ViewState(\n",
    "  latitude=46.1966,\n",
    "  longitude=6.09,\n",
    "  zoom=11,\n",
    "  max_zoom=16,\n",
    "  pitch=45,\n",
    "  bearing=0\n",
    ")\n",
    "\n",
    "bases_layer = pydeck.Layer('PolygonLayer', data=bases, get_fill_color=[255,100,255], pickable=True,)\n",
    "\n",
    "r = pydeck.Deck(\n",
    "    layers=[bases_layer],\n",
    "    initial_view_state=INITIAL_VIEW_STATE)\n",
    "\n",
    "# r.show()\n",
    "r.to_html()"
   ]
  },
  {
   "cell_type": "code",
   "execution_count": null,
   "metadata": {},
   "outputs": [],
   "source": [
    "\n",
    "import pydeck\n",
    "\n",
    "INITIAL_VIEW_STATE = pydeck.ViewState(\n",
    "  latitude=46.1966,\n",
    "  longitude=6.09,\n",
    "  zoom=11,\n",
    "  max_zoom=16,\n",
    "  pitch=45,\n",
    "  bearing=0\n",
    ")\n",
    "\n",
    "facades = pydeck.Layer('GeoJSONLayer', data=facades, get_fill_color=[255,255,0], pickable=True,)\n",
    "\n",
    "r = pydeck.Deck(\n",
    "    layers=[facades],\n",
    "    initial_view_state=INITIAL_VIEW_STATE)\n",
    "\n",
    "# r.show()\n",
    "r.to_html()"
   ]
  },
  {
   "cell_type": "code",
   "execution_count": null,
   "metadata": {},
   "outputs": [],
   "source": [
    "import pydeck\n",
    "\n",
    "INITIAL_VIEW_STATE = pydeck.ViewState(\n",
    "  latitude=46.1966,\n",
    "  longitude=6.09,\n",
    "  zoom=11,\n",
    "  max_zoom=16,\n",
    "  pitch=45,\n",
    "  bearing=0\n",
    ")\n",
    "\n",
    "\n",
    "bases_layer = pydeck.Layer('PolygonLayer', data=bases, get_fill_color=[0,0,255], pickable=True,)\n",
    "facades_layer = pydeck.Layer('PolygonLayer', data=facades, get_fill_color=[0,255,0], pickable=True,)\n",
    "toits_layer = pydeck.Layer('PolygonLayer', data=toits, get_fill_color=[255,0,0], pickable=True,)\n",
    "\n",
    "\n",
    "r = pydeck.Deck(\n",
    "    layers=[bases_layer, facades_layer, toits_layer],\n",
    "    initial_view_state=INITIAL_VIEW_STATE)\n",
    "\n",
    "# r.show()\n",
    "r.to_html()"
   ]
  },
  {
   "cell_type": "code",
   "execution_count": null,
   "metadata": {},
   "outputs": [],
   "source": []
  }
 ],
 "metadata": {
  "interpreter": {
   "hash": "5c71747199ccf75ddaf3883c03e7cbdd89e76ecde656ff7751201a2aee1b439a"
  },
  "kernelspec": {
   "display_name": "Python 3 (ipykernel)",
   "language": "python",
   "name": "python3"
  },
  "language_info": {
   "codemirror_mode": {
    "name": "ipython",
    "version": 3
   },
   "file_extension": ".py",
   "mimetype": "text/x-python",
   "name": "python",
   "nbconvert_exporter": "python",
   "pygments_lexer": "ipython3",
   "version": "3.9.9"
  }
 },
 "nbformat": 4,
 "nbformat_minor": 4
}
